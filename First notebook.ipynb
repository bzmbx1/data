{
    "cells": [
        {
            "cell_type": "markdown",
            "metadata": {},
            "source": "# First data set\nPractice using Notebook and Pandas"
        },
        {
            "cell_type": "code",
            "execution_count": 1,
            "metadata": {},
            "outputs": [
                {
                    "data": {
                        "text/html": "<div>\n<style scoped>\n    .dataframe tbody tr th:only-of-type {\n        vertical-align: middle;\n    }\n\n    .dataframe tbody tr th {\n        vertical-align: top;\n    }\n\n    .dataframe thead th {\n        text-align: right;\n    }\n</style>\n<table border=\"1\" class=\"dataframe\">\n  <thead>\n    <tr style=\"text-align: right;\">\n      <th></th>\n      <th>Date</th>\n      <th>ProductNo</th>\n      <th>Serial No</th>\n      <th>Problem</th>\n      <th>Problem Part</th>\n      <th>Problem Owner</th>\n      <th>Subject name</th>\n      <th>PN#</th>\n      <th>Part Description</th>\n      <th>Gate</th>\n      <th>Cost</th>\n      <th>Cost (1K USD)</th>\n      <th># Def</th>\n      <th>Def</th>\n      <th>Week</th>\n      <th>Unnamed: 15</th>\n      <th>Unnamed: 16</th>\n    </tr>\n  </thead>\n  <tbody>\n    <tr>\n      <th>0</th>\n      <td>January 6, 2020</td>\n      <td>L90H</td>\n      <td>625329</td>\n      <td>Cosmetic - Paint</td>\n      <td>Attachments (Forks, Bucket, Blade, SCREE</td>\n      <td>RECON</td>\n      <td>Rust areas on bucket</td>\n      <td>NaN</td>\n      <td>NaN</td>\n      <td>QPDI</td>\n      <td>$374.99</td>\n      <td>$0.37</td>\n      <td>1</td>\n      <td>-1</td>\n      <td>2</td>\n      <td>NaN</td>\n      <td>NaN</td>\n    </tr>\n    <tr>\n      <th>1</th>\n      <td>January 7, 2020</td>\n      <td>L90H_US_D_008</td>\n      <td>625331</td>\n      <td>Lubrication</td>\n      <td>Attachments (Forks, Bucket, Blade, SCREE</td>\n      <td>WL BOOM SUB</td>\n      <td>Attachment lock pins not greased</td>\n      <td>NaN</td>\n      <td>NaN</td>\n      <td>Q4</td>\n      <td>$193.29</td>\n      <td>$0.19</td>\n      <td>1</td>\n      <td>-1</td>\n      <td>2</td>\n      <td>NaN</td>\n      <td>NaN</td>\n    </tr>\n    <tr>\n      <th>2</th>\n      <td>January 7, 2020</td>\n      <td>L90H_US_C_008</td>\n      <td>625330</td>\n      <td>Cosmetic - Paint</td>\n      <td>Axle</td>\n      <td>RECON</td>\n      <td>WHEEL HUBS</td>\n      <td>NaN</td>\n      <td>NaN</td>\n      <td>QPDI</td>\n      <td>$374.99</td>\n      <td>$0.37</td>\n      <td>1</td>\n      <td>-1</td>\n      <td>2</td>\n      <td>NaN</td>\n      <td>NaN</td>\n    </tr>\n    <tr>\n      <th>3</th>\n      <td>January 7, 2020</td>\n      <td>L120H_US_C_010</td>\n      <td>632755</td>\n      <td>Cosmetic - Paint</td>\n      <td>Axle</td>\n      <td>SUPPLIER</td>\n      <td>WHEEL HUBS</td>\n      <td>NaN</td>\n      <td>NaN</td>\n      <td>Q4</td>\n      <td>$374.99</td>\n      <td>$0.37</td>\n      <td>1</td>\n      <td>-1</td>\n      <td>2</td>\n      <td>NaN</td>\n      <td>NaN</td>\n    </tr>\n    <tr>\n      <th>4</th>\n      <td>January 7, 2020</td>\n      <td>L90H_US_D_008</td>\n      <td>625331</td>\n      <td>Cosmetic - Paint</td>\n      <td>Axle</td>\n      <td>SUPPLIER</td>\n      <td>WHEEL HUBS</td>\n      <td>NaN</td>\n      <td>NaN</td>\n      <td>Q4</td>\n      <td>$374.99</td>\n      <td>$0.37</td>\n      <td>1</td>\n      <td>-1</td>\n      <td>2</td>\n      <td>NaN</td>\n      <td>NaN</td>\n    </tr>\n  </tbody>\n</table>\n</div>",
                        "text/plain": "              Date       ProductNo  Serial No           Problem  \\\n0  January 6, 2020            L90H     625329  Cosmetic - Paint   \n1  January 7, 2020   L90H_US_D_008     625331       Lubrication   \n2  January 7, 2020   L90H_US_C_008     625330  Cosmetic - Paint   \n3  January 7, 2020  L120H_US_C_010     632755  Cosmetic - Paint   \n4  January 7, 2020   L90H_US_D_008     625331  Cosmetic - Paint   \n\n                               Problem Part Problem Owner  \\\n0  Attachments (Forks, Bucket, Blade, SCREE         RECON   \n1  Attachments (Forks, Bucket, Blade, SCREE   WL BOOM SUB   \n2                                      Axle         RECON   \n3                                      Axle      SUPPLIER   \n4                                      Axle      SUPPLIER   \n\n                       Subject name  PN# Part Description  Gate      Cost   \\\n0              Rust areas on bucket  NaN              NaN  QPDI   $374.99    \n1  Attachment lock pins not greased  NaN              NaN    Q4   $193.29    \n2                        WHEEL HUBS  NaN              NaN  QPDI   $374.99    \n3                        WHEEL HUBS  NaN              NaN    Q4   $374.99    \n4                        WHEEL HUBS  NaN              NaN    Q4   $374.99    \n\n   Cost (1K USD)  # Def  Def  Week  Unnamed: 15  Unnamed: 16  \n0          $0.37      1   -1     2          NaN          NaN  \n1          $0.19      1   -1     2          NaN          NaN  \n2          $0.37      1   -1     2          NaN          NaN  \n3          $0.37      1   -1     2          NaN          NaN  \n4          $0.37      1   -1     2          NaN          NaN  "
                    },
                    "execution_count": 1,
                    "metadata": {},
                    "output_type": "execute_result"
                }
            ],
            "source": "# The code was removed by Watson Studio for sharing."
        },
        {
            "cell_type": "code",
            "execution_count": null,
            "metadata": {},
            "outputs": [],
            "source": ""
        }
    ],
    "metadata": {
        "kernelspec": {
            "display_name": "Python 3.7",
            "language": "python",
            "name": "python3"
        },
        "language_info": {
            "codemirror_mode": {
                "name": "ipython",
                "version": 3
            },
            "file_extension": ".py",
            "mimetype": "text/x-python",
            "name": "python",
            "nbconvert_exporter": "python",
            "pygments_lexer": "ipython3",
            "version": "3.7.9"
        }
    },
    "nbformat": 4,
    "nbformat_minor": 1
}